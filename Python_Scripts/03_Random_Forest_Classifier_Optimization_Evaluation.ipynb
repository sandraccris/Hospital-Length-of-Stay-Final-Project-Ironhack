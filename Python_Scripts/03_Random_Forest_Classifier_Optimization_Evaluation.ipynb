{
 "cells": [
  {
   "cell_type": "markdown",
   "id": "124502c5",
   "metadata": {},
   "source": [
    "# Predicting Hospital Length of Stay of General Surgical Patients\n",
    "\n",
    "### Part 3"
   ]
  },
  {
   "cell_type": "code",
   "execution_count": 1,
   "id": "8101a38c",
   "metadata": {},
   "outputs": [],
   "source": [
    "#Import libraries\n",
    "\n",
    "import pandas as pd\n",
    "import numpy as np\n",
    "pd.set_option('display.max_columns', None)\n",
    "import warnings\n",
    "warnings.filterwarnings('ignore')\n",
    "\n",
    "import plotly.express as px\n",
    "import matplotlib.pyplot as plt\n",
    "import seaborn as sns \n",
    "%matplotlib inline\n",
    "\n",
    "from imblearn.over_sampling import SMOTE\n",
    "from sklearn.preprocessing import MinMaxScaler\n",
    "from sklearn.preprocessing import LabelEncoder \n",
    "from sklearn.preprocessing import OrdinalEncoder\n",
    "from sklearn.preprocessing import label_binarize\n",
    "from sklearn.metrics import roc_auc_score\n",
    "\n",
    "from sklearn.model_selection import train_test_split  \n",
    "from sklearn.ensemble import RandomForestClassifier\n",
    "from sklearn.tree import DecisionTreeClassifier\n",
    "from sklearn.linear_model import LogisticRegression\n",
    "from sklearn.neighbors import KNeighborsClassifier\n",
    "from sklearn.svm import LinearSVC\n",
    "from sklearn.svm import SVC\n",
    "from xgboost import XGBClassifier\n",
    "\n",
    "from sklearn.metrics import f1_score, precision_score, accuracy_score, recall_score, confusion_matrix, plot_confusion_matrix, classification_report\n",
    "from sklearn.feature_selection import RFE\n",
    "from sklearn.feature_selection import SelectKBest\n",
    "from sklearn.feature_selection import chi2\n",
    "from sklearn.model_selection import GridSearchCV\n",
    "from sklearn.model_selection import cross_val_score\n",
    "from sklearn.metrics import roc_curve, auc\n",
    "from sklearn.multiclass import OneVsRestClassifier\n",
    "\n",
    "from scipy.stats import chi2_contingency  \n",
    "from scipy.stats import norm"
   ]
  },
  {
   "cell_type": "code",
   "execution_count": 2,
   "id": "5c6503dc",
   "metadata": {},
   "outputs": [
    {
     "data": {
      "text/html": [
       "<div>\n",
       "<style scoped>\n",
       "    .dataframe tbody tr th:only-of-type {\n",
       "        vertical-align: middle;\n",
       "    }\n",
       "\n",
       "    .dataframe tbody tr th {\n",
       "        vertical-align: top;\n",
       "    }\n",
       "\n",
       "    .dataframe thead th {\n",
       "        text-align: right;\n",
       "    }\n",
       "</style>\n",
       "<table border=\"1\" class=\"dataframe\">\n",
       "  <thead>\n",
       "    <tr style=\"text-align: right;\">\n",
       "      <th></th>\n",
       "      <th>surgery_time_min</th>\n",
       "      <th>icu_days</th>\n",
       "      <th>age</th>\n",
       "      <th>sex</th>\n",
       "      <th>height</th>\n",
       "      <th>weight</th>\n",
       "      <th>asa</th>\n",
       "      <th>emergency_op</th>\n",
       "      <th>op_type</th>\n",
       "      <th>surgical_approach</th>\n",
       "      <th>ane_type</th>\n",
       "      <th>preop_htn</th>\n",
       "      <th>preop_dm</th>\n",
       "      <th>preop_hb</th>\n",
       "      <th>preop_plt</th>\n",
       "      <th>preop_gluc</th>\n",
       "      <th>preop_cr</th>\n",
       "      <th>iv_line</th>\n",
       "      <th>arterial_line</th>\n",
       "      <th>central_line</th>\n",
       "      <th>intraop_urine</th>\n",
       "      <th>rbc_transfusion</th>\n",
       "      <th>ffplasma_transfusion</th>\n",
       "      <th>intraop_crystalloid</th>\n",
       "      <th>intraop_colloid</th>\n",
       "      <th>propofol</th>\n",
       "      <th>midazolam</th>\n",
       "      <th>fentanyl</th>\n",
       "      <th>vecuronium</th>\n",
       "      <th>ephedrine</th>\n",
       "      <th>phenylephrine</th>\n",
       "      <th>Epinephrine</th>\n",
       "      <th>calcium chloride</th>\n",
       "      <th>LOS_days</th>\n",
       "      <th>LOS</th>\n",
       "    </tr>\n",
       "  </thead>\n",
       "  <tbody>\n",
       "    <tr>\n",
       "      <th>0</th>\n",
       "      <td>192.0</td>\n",
       "      <td>0</td>\n",
       "      <td>elderly age</td>\n",
       "      <td>M</td>\n",
       "      <td>160.2</td>\n",
       "      <td>67.5</td>\n",
       "      <td>2.0</td>\n",
       "      <td>0</td>\n",
       "      <td>Colorectal</td>\n",
       "      <td>Open</td>\n",
       "      <td>General</td>\n",
       "      <td>1</td>\n",
       "      <td>0</td>\n",
       "      <td>14.1</td>\n",
       "      <td>189.0</td>\n",
       "      <td>134.0</td>\n",
       "      <td>0.82</td>\n",
       "      <td>Right forearm</td>\n",
       "      <td>Left radial</td>\n",
       "      <td>unknown</td>\n",
       "      <td>300.0</td>\n",
       "      <td>0</td>\n",
       "      <td>0</td>\n",
       "      <td>350.0</td>\n",
       "      <td>0</td>\n",
       "      <td>120</td>\n",
       "      <td>0.0</td>\n",
       "      <td>100</td>\n",
       "      <td>0</td>\n",
       "      <td>10</td>\n",
       "      <td>0</td>\n",
       "      <td>0</td>\n",
       "      <td>0</td>\n",
       "      <td>7.0</td>\n",
       "      <td>prolonged</td>\n",
       "    </tr>\n",
       "    <tr>\n",
       "      <th>1</th>\n",
       "      <td>262.0</td>\n",
       "      <td>0</td>\n",
       "      <td>elderly age</td>\n",
       "      <td>M</td>\n",
       "      <td>167.3</td>\n",
       "      <td>54.8</td>\n",
       "      <td>2.0</td>\n",
       "      <td>0</td>\n",
       "      <td>Stomach</td>\n",
       "      <td>Open</td>\n",
       "      <td>General</td>\n",
       "      <td>0</td>\n",
       "      <td>0</td>\n",
       "      <td>10.2</td>\n",
       "      <td>251.0</td>\n",
       "      <td>88.0</td>\n",
       "      <td>0.86</td>\n",
       "      <td>Left forearm</td>\n",
       "      <td>unknown</td>\n",
       "      <td>unknown</td>\n",
       "      <td>700.0</td>\n",
       "      <td>0</td>\n",
       "      <td>0</td>\n",
       "      <td>800.0</td>\n",
       "      <td>0</td>\n",
       "      <td>150</td>\n",
       "      <td>0.0</td>\n",
       "      <td>0</td>\n",
       "      <td>0</td>\n",
       "      <td>20</td>\n",
       "      <td>0</td>\n",
       "      <td>0</td>\n",
       "      <td>0</td>\n",
       "      <td>17.0</td>\n",
       "      <td>prolonged</td>\n",
       "    </tr>\n",
       "    <tr>\n",
       "      <th>2</th>\n",
       "      <td>73.0</td>\n",
       "      <td>0</td>\n",
       "      <td>elderly age</td>\n",
       "      <td>M</td>\n",
       "      <td>169.1</td>\n",
       "      <td>69.7</td>\n",
       "      <td>1.0</td>\n",
       "      <td>0</td>\n",
       "      <td>Biliary/Pancreas</td>\n",
       "      <td>Videoscopic</td>\n",
       "      <td>General</td>\n",
       "      <td>0</td>\n",
       "      <td>0</td>\n",
       "      <td>14.2</td>\n",
       "      <td>373.0</td>\n",
       "      <td>87.0</td>\n",
       "      <td>1.18</td>\n",
       "      <td>Left forearm</td>\n",
       "      <td>unknown</td>\n",
       "      <td>unknown</td>\n",
       "      <td>180.0</td>\n",
       "      <td>0</td>\n",
       "      <td>0</td>\n",
       "      <td>200.0</td>\n",
       "      <td>0</td>\n",
       "      <td>0</td>\n",
       "      <td>0.0</td>\n",
       "      <td>0</td>\n",
       "      <td>0</td>\n",
       "      <td>0</td>\n",
       "      <td>0</td>\n",
       "      <td>0</td>\n",
       "      <td>0</td>\n",
       "      <td>0.0</td>\n",
       "      <td>short</td>\n",
       "    </tr>\n",
       "  </tbody>\n",
       "</table>\n",
       "</div>"
      ],
      "text/plain": [
       "   surgery_time_min  icu_days          age sex  height  weight  asa  \\\n",
       "0             192.0         0  elderly age   M   160.2    67.5  2.0   \n",
       "1             262.0         0  elderly age   M   167.3    54.8  2.0   \n",
       "2              73.0         0  elderly age   M   169.1    69.7  1.0   \n",
       "\n",
       "   emergency_op           op_type surgical_approach ane_type  preop_htn  \\\n",
       "0             0        Colorectal              Open  General          1   \n",
       "1             0           Stomach              Open  General          0   \n",
       "2             0  Biliary/Pancreas       Videoscopic  General          0   \n",
       "\n",
       "   preop_dm  preop_hb  preop_plt  preop_gluc  preop_cr        iv_line  \\\n",
       "0         0      14.1      189.0       134.0      0.82  Right forearm   \n",
       "1         0      10.2      251.0        88.0      0.86   Left forearm   \n",
       "2         0      14.2      373.0        87.0      1.18   Left forearm   \n",
       "\n",
       "  arterial_line central_line  intraop_urine rbc_transfusion  \\\n",
       "0   Left radial      unknown          300.0               0   \n",
       "1       unknown      unknown          700.0               0   \n",
       "2       unknown      unknown          180.0               0   \n",
       "\n",
       "   ffplasma_transfusion  intraop_crystalloid  intraop_colloid  propofol  \\\n",
       "0                     0                350.0                0       120   \n",
       "1                     0                800.0                0       150   \n",
       "2                     0                200.0                0         0   \n",
       "\n",
       "   midazolam  fentanyl  vecuronium  ephedrine  phenylephrine  Epinephrine  \\\n",
       "0        0.0       100           0         10              0            0   \n",
       "1        0.0         0           0         20              0            0   \n",
       "2        0.0         0           0          0              0            0   \n",
       "\n",
       "   calcium chloride  LOS_days        LOS  \n",
       "0                 0       7.0  prolonged  \n",
       "1                 0      17.0  prolonged  \n",
       "2                 0       0.0      short  "
      ]
     },
     "execution_count": 2,
     "metadata": {},
     "output_type": "execute_result"
    }
   ],
   "source": [
    "#importing csv \n",
    "\n",
    "df2=pd.read_csv(\"data_cleaned.csv\")\n",
    "df2.head(3)"
   ]
  },
  {
   "cell_type": "code",
   "execution_count": 3,
   "id": "9ba840a5",
   "metadata": {},
   "outputs": [],
   "source": [
    "#Function to prepare X\n",
    "\n",
    "def prepare_X(X):\n",
    "    X=pd.get_dummies(X, columns=X.select_dtypes(include='object').columns, drop_first=True)   #first category to be dropped during the encoding process to avoid multicollinearity and reduce the dimensionality of the encoded data.\n",
    "    return X"
   ]
  },
  {
   "cell_type": "code",
   "execution_count": 4,
   "id": "2a5650ec",
   "metadata": {},
   "outputs": [],
   "source": [
    "# Function to prepare target y\n",
    "\n",
    "def prepare_y(y):\n",
    "    encoder = OrdinalEncoder(categories=[['short', 'medium', 'prolonged']])\n",
    "    ordinal_data = encoder.fit_transform(y)\n",
    "    return pd.DataFrame(ordinal_data, columns=['LOS'])"
   ]
  },
  {
   "cell_type": "code",
   "execution_count": 5,
   "id": "9ef2a1b2",
   "metadata": {},
   "outputs": [],
   "source": [
    "def upsampling_smote(X, y):\n",
    "    smote = SMOTE()\n",
    "    X, y = smote.fit_resample(X, y)\n",
    "    return X, y"
   ]
  },
  {
   "cell_type": "markdown",
   "id": "5bda9904",
   "metadata": {},
   "source": [
    "# Random Forest Classifier Optimization"
   ]
  },
  {
   "cell_type": "markdown",
   "id": "1fdcba2e",
   "metadata": {},
   "source": [
    "### Hyperparameter Tuning"
   ]
  },
  {
   "cell_type": "markdown",
   "id": "28bd8c79",
   "metadata": {},
   "source": [
    "Before build the parameter grid, I want to see the best range of values (k) to insert in the **n-estimators** parameter, which is the number of trees to build."
   ]
  },
  {
   "cell_type": "code",
   "execution_count": 6,
   "id": "82c7344f",
   "metadata": {
    "scrolled": true
   },
   "outputs": [
    {
     "name": "stdout",
     "output_type": "stream",
     "text": [
      "(3954, 76)\n",
      "(1695, 76)\n",
      "(3954, 1)\n",
      "(1695, 1)\n"
     ]
    }
   ],
   "source": [
    "#Preparing X and y \n",
    "\n",
    "X = prepare_X(df2.drop([\"LOS\", \"LOS_days\"], axis=1))\n",
    "y = prepare_y(pd.DataFrame(df2[\"LOS\"]))\n",
    "\n",
    "#Upsampling \n",
    "X, y = upsampling_smote(X, y)\n",
    "\n",
    "\n",
    "#X-y split\n",
    "X_train, X_test, y_train, y_test = train_test_split(X, y, test_size=0.3, random_state=42, stratify=y) # stratify=y ensures stratified split, maintaining the class distribution (short, medium and prolonged) in both y_train and y_test.\n",
    "\n",
    "print(X_train.shape)\n",
    "print(X_test.shape)\n",
    "print(y_train.shape)\n",
    "print(y_test.shape)"
   ]
  },
  {
   "cell_type": "code",
   "execution_count": 9,
   "id": "809baaa0",
   "metadata": {},
   "outputs": [
    {
     "data": {
      "text/plain": [
       "Text(0, 0.5, 'Testing Accuracy')"
      ]
     },
     "execution_count": 9,
     "metadata": {},
     "output_type": "execute_result"
    },
    {
     "data": {
      "image/png": "[encoded data removed]",
      "text/plain": [
       "<Figure size 640x480 with 1 Axes>"
      ]
     },
     "metadata": {},
     "output_type": "display_data"
    }
   ],
   "source": [
    "scores =[]   # empty list to store the scores\n",
    "\n",
    "for k in range(1, 150):  #between 1 and 150 trees\n",
    "    rfc = RandomForestClassifier(n_estimators=k)\n",
    "    rfc.fit(X_train, y_train)\n",
    "    y_pred = rfc.predict(X_test)\n",
    "    scores.append(accuracy_score(y_test, y_pred))\n",
    "\n",
    "# plot the relationship between k and testing accuracy\n",
    "# plt.plot(x_axis, y_axis)\n",
    "plt.plot(range(1, 150), scores)\n",
    "plt.xlabel('Value of n_estimators for Random Forest Classifier')\n",
    "plt.ylabel('Testing Accuracy')"
   ]
  },
  {
   "cell_type": "code",
   "execution_count": 10,
   "id": "36e70473",
   "metadata": {
    "scrolled": true
   },
   "outputs": [
    {
     "name": "stdout",
     "output_type": "stream",
     "text": [
      "max_score: 0.7569321533923303\n",
      "n_estimator: 49\n"
     ]
    }
   ],
   "source": [
    "# At which nr of estimators we get the best accuracy?\n",
    "\n",
    "max_accuracy = max(scores)\n",
    "max_index = scores.index(max_accuracy)\n",
    "print(\"max_score:\", max_accuracy)\n",
    "print(\"n_estimator:\", max_index)\n",
    "\n",
    "# we get the maximum score of 0.75 with 49 trees."
   ]
  },
  {
   "cell_type": "markdown",
   "id": "15bd1712",
   "metadata": {},
   "source": [
    "#### Grid Search for Parameter Tuning with Cross Validation"
   ]
  },
  {
   "cell_type": "code",
   "execution_count": 7,
   "id": "80467b62",
   "metadata": {},
   "outputs": [],
   "source": [
    "# dictionary with parameters to put inside the grid for the search space to explore all the possible combinations of hyperparameters.\n",
    "\n",
    "param_grid = {\n",
    "    'criterion': ['gini', 'entropy'],  #The function to measure the quality of a split\n",
    "    'n_estimators': [40, 60, 70, 100], #The number of trees to build before taking the maximum voting\n",
    "    'min_samples_split': [2, 4],  #The minimum number of samples required to split an internal node\n",
    "    'min_samples_leaf': [1, 2, 5], #The minimum number of samples required to be at a leaf node.\n",
    "    'max_features': ['sqrt', 'auto', 'log2'], #The max number of features RF is allowed to try in individual tree and use when looking for the best split\n",
    "    'max_samples': [None, 0.3, 0.5, 0.8],  #the fraction of the original dataset that is given to any individual tree\n",
    "    'max_depth': [3, 5, 7, None]  # tree's depth (crucial to prevent overfitting)\n",
    "    }"
   ]
  },
  {
   "cell_type": "code",
   "execution_count": 8,
   "id": "2fbc0fb0",
   "metadata": {},
   "outputs": [
    {
     "data": {
      "text/plain": [
       "GridSearchCV(cv=10, estimator=RandomForestClassifier(),\n",
       "             param_grid={'criterion': ['gini', 'entropy'],\n",
       "                         'max_depth': [3, 5, 7, None],\n",
       "                         'max_features': ['sqrt', 'auto', 'log2'],\n",
       "                         'max_samples': [None, 0.3, 0.5, 0.8],\n",
       "                         'min_samples_leaf': [1, 2, 5],\n",
       "                         'min_samples_split': [2, 4],\n",
       "                         'n_estimators': [40, 60, 70, 100]},\n",
       "             return_train_score=True, scoring='accuracy')"
      ]
     },
     "execution_count": 8,
     "metadata": {},
     "output_type": "execute_result"
    }
   ],
   "source": [
    "rf = RandomForestClassifier()\n",
    "\n",
    "# Create the grid search object\n",
    "grid_search = GridSearchCV(rf, param_grid, cv=10, return_train_score=True, scoring = \"accuracy\")   #Using 10-Fold cross validation as well to find the best combination.\n",
    "\n",
    "# Fit the grid search object to the data\n",
    "grid_search.fit(X_train, y_train)"
   ]
  },
  {
   "cell_type": "code",
   "execution_count": 10,
   "id": "e53de39d",
   "metadata": {
    "scrolled": false
   },
   "outputs": [
    {
     "name": "stdout",
     "output_type": "stream",
     "text": [
      "{'criterion': 'entropy', 'max_depth': None, 'max_features': 'sqrt', 'max_samples': None, 'min_samples_leaf': 1, 'min_samples_split': 2, 'n_estimators': 100}\n",
      "Best score: 0.74\n"
     ]
    }
   ],
   "source": [
    "#Check the best set of parameters returned\n",
    "\n",
    "best_params = grid_search.best_params_\n",
    "\n",
    "print(best_params)\n",
    "print(\"Best score: {:.2f}\".format(grid_search.best_score_)) # Check the best score, which is the average of all cv folds for a single combination of the parameters I specify in the param_grid. "
   ]
  },
  {
   "cell_type": "code",
   "execution_count": 11,
   "id": "2e5d37d7",
   "metadata": {
    "scrolled": false
   },
   "outputs": [
    {
     "name": "stdout",
     "output_type": "stream",
     "text": [
      "The accuracy of the model is: 74.69\n",
      "[[477  20  68]\n",
      " [ 28 441  96]\n",
      " [ 92 125 348]]\n",
      "              precision    recall  f1-score   support\n",
      "\n",
      "         0.0       0.80      0.84      0.82       565\n",
      "         1.0       0.75      0.78      0.77       565\n",
      "         2.0       0.68      0.62      0.65       565\n",
      "\n",
      "    accuracy                           0.75      1695\n",
      "   macro avg       0.74      0.75      0.74      1695\n",
      "weighted avg       0.74      0.75      0.74      1695\n",
      "\n"
     ]
    },
    {
     "data": {
      "image/png": "[encoded data removed]",
      "text/plain": [
       "<Figure size 800x600 with 2 Axes>"
      ]
     },
     "metadata": {},
     "output_type": "display_data"
    }
   ],
   "source": [
    "#  Training the model using the best parameters from the grid_search\n",
    "\n",
    "X = prepare_X(df2.drop([\"LOS\", \"LOS_days\"], axis=1))\n",
    "y = prepare_y(pd.DataFrame(df2[\"LOS\"]))\n",
    "\n",
    "X, y = upsampling_smote(X, y)\n",
    "\n",
    "rf_best = grid_search.best_estimator_   \n",
    "rf_best.fit(X_train, y_train)\n",
    "predictions = rf_best.predict(X_test)\n",
    "\n",
    "# Model Performance\n",
    "\n",
    "print(\"The accuracy of the model is: {:4.2f}\".format(rf_best.score(X_test, y_test)*100))\n",
    "print(confusion_matrix(y_test, predictions))\n",
    "print(classification_report(y_test, predictions))\n",
    "\n",
    "# Confusion Matrix\n",
    "cm = confusion_matrix(y_test, predictions)\n",
    "\n",
    "color = 'Blues' # changing colors of confusion matrix\n",
    "\n",
    "classes = ['Short', 'Medium', 'Prolonged'] #changing the labels\n",
    "\n",
    "# Function to plot the confusion matrix\n",
    "def plot_custom_confusion_matrix(cm, classes, color):\n",
    "    plt.figure(figsize=(8, 6))\n",
    "    sns.heatmap(cm, annot=True, fmt=\"d\", cmap=color)\n",
    "\n",
    "    plt.yticks(ticks=[0.5, 1.5, 2.5], labels= classes, rotation=0) #position of the labels in y\n",
    "\n",
    "\n",
    "    plt.xticks(ticks=[0.5, 1.5, 2.5], labels=classes, rotation=0) # position of the labels in x\n",
    "\n",
    "    plt.xlabel(\"Predicted\")\n",
    "    plt.ylabel(\"True\")\n",
    "    plt.title(\"Confusion Matrix\")\n",
    "    plt.show()\n",
    "\n",
    "# Plot the confusion matrix\n",
    "plot_custom_confusion_matrix(cm, classes, color)"
   ]
  },
  {
   "cell_type": "markdown",
   "id": "ca5441ce",
   "metadata": {},
   "source": [
    "- Short Length: 477 Predicted correctly and 120 predicted incorrectly.\n",
    "\n",
    "\n",
    "- Medium Length : 441 predicted correctly and 145 predicted incorrectly.\n",
    "\n",
    "\n",
    "- Prolonged Length: 348 Predicted correctly and 164 incorrectly.\n"
   ]
  },
  {
   "cell_type": "markdown",
   "id": "749a9cb4",
   "metadata": {},
   "source": [
    "When looking at the Confusion Matrix and Metrics I can conclude the model is particularly effective in correctly predicting **Short Length of Stay** class, as evident from the higher precision (80%)  when comparing to Medium (75%) and Prolonged Lengths (68%). This means that the model can more effectively distinguish instances of the Short Length of Stay class from other classes."
   ]
  },
  {
   "cell_type": "markdown",
   "id": "d402d5ac",
   "metadata": {},
   "source": [
    "##  Model Evaluation"
   ]
  },
  {
   "cell_type": "markdown",
   "id": "476b9542",
   "metadata": {},
   "source": [
    "#### Using Cross-validation technique to obtain a more reliable estimate of the Random Forest Classifier performance\n",
    "\n",
    "\"Cross validation is a technique to measure the performance of a model through resampling. Cross validation does multiple train test splits ensuring all observations appear in the training and testing sets therefore the evaluation metric is considered to be more reliable when comparing to only 1 train test split\""
   ]
  },
  {
   "cell_type": "code",
   "execution_count": 12,
   "id": "8f6c8b65",
   "metadata": {
    "scrolled": false
   },
   "outputs": [
    {
     "name": "stdout",
     "output_type": "stream",
     "text": [
      "lower=0.711, upper=0.749\n"
     ]
    }
   ],
   "source": [
    "# with 10 cross validation folds\n",
    "\n",
    "cv_scores = cross_val_score(rf_best, X_train, y_train, cv=10, scoring='accuracy')  #only on the training set\n",
    "lower, upper = norm.interval(alpha=0.9, loc=np.mean(cv_scores), scale=np.std(cv_scores))\n",
    "print('lower=%.3f, upper=%.3f' % (lower, upper))"
   ]
  },
  {
   "cell_type": "markdown",
   "id": "4c5b238c",
   "metadata": {},
   "source": [
    "It means that with 90% confidence, the true accuracy is expected to be between 69% and 75%."
   ]
  },
  {
   "cell_type": "markdown",
   "id": "263b416f",
   "metadata": {},
   "source": [
    "### AUC-ROC Curve"
   ]
  },
  {
   "cell_type": "markdown",
   "id": "f4758470",
   "metadata": {},
   "source": [
    "#### Plotting ROC Curve with AUC metric to evaluate model performance"
   ]
  },
  {
   "cell_type": "code",
   "execution_count": 13,
   "id": "2e837755",
   "metadata": {},
   "outputs": [],
   "source": [
    "#Preparing X and y \n",
    "X = prepare_X(df2.drop([\"LOS\", \"LOS_days\"], axis=1))\n",
    "y = prepare_y(pd.DataFrame(df2[\"LOS\"]))\n",
    "\n",
    "#Upsampling \n",
    "X, y = upsampling_smote(X, y)\n",
    "\n",
    "#X-y split\n",
    "\n",
    "\n",
    "X_train, X_test, y_train, y_test = train_test_split(X, y, test_size=0.3, random_state=42, stratify=y)"
   ]
  },
  {
   "cell_type": "code",
   "execution_count": 15,
   "id": "1b19d965",
   "metadata": {
    "scrolled": false
   },
   "outputs": [
    {
     "data": {
      "image/png": "[encoded data removed]",
      "text/plain": [
       "<Figure size 800x600 with 1 Axes>"
      ]
     },
     "metadata": {},
     "output_type": "display_data"
    }
   ],
   "source": [
    "# Binarize target to be able to plot ROC curve with a multiclass target\n",
    "\n",
    "classes = np.unique(y_train)\n",
    "y_train_bin = label_binarize(y_train, classes=classes)\n",
    "y_test_bin = label_binarize(y_test, classes=classes)\n",
    "\n",
    "\n",
    "# OneVsRestClassifier - it allows to perform multi-class classification using binary classifiers\n",
    "\n",
    "clf = OneVsRestClassifier(rf_best)  #OneVsRestClassifier() to use the binarize target, because target is multiclass.\n",
    "\n",
    "# Train the classifier\n",
    "clf.fit(X_train, y_train_bin)\n",
    "\n",
    "# Get the predicted probabilities for each class on the test data\n",
    "y_probs = clf.predict_proba(X_test)\n",
    "\n",
    "\n",
    "# Compute the ROC curve and ROC AUC for each class\n",
    "\n",
    "fpr = dict() #To store the false positives rate for each class\n",
    "tpr = dict() # To store the true positives rate for each class\n",
    "roc_auc = dict() #To store the auc metric for each class\n",
    "n_classes = y_train_bin.shape[1]\n",
    "\n",
    "for i in range(n_classes):\n",
    "    fpr[i], tpr[i], _ = roc_curve(y_test_bin[:, i], y_probs[:, i])\n",
    "    roc_auc[i] = auc(fpr[i], tpr[i])\n",
    "\n",
    "# Ploting the ROC curves\n",
    "\n",
    "plt.figure(figsize=(8, 6))\n",
    "\n",
    "for i in range(n_classes):\n",
    "    plt.plot(fpr[i], tpr[i], lw=2, label='Class {} (AUC = {:.2f})'.format(i, roc_auc[i]))\n",
    "\n",
    "plt.xlabel('False Positive Rate')\n",
    "plt.ylabel('True Positive Rate')\n",
    "plt.title('ROC Curve for Short, Medium and Prolonged Length of Stay (LOS)')\n",
    "plt.legend(loc=\"lower right\")\n",
    "plt.show()"
   ]
  },
  {
   "cell_type": "markdown",
   "id": "b748fcc0",
   "metadata": {},
   "source": [
    "### Conclusion"
   ]
  },
  {
   "cell_type": "markdown",
   "id": "fe57a801",
   "metadata": {},
   "source": [
    "- Random Forest Classifier has shown promising results and efficency at predicting different Hospital Lengths for a patient (Short, Medium or Prolonged). When looking at the evaluation metrics we conclude the model achieved higher precision (0.80) in predicting **Short Lengths** when comparing to Medium (0.75) and Prolonged lengths (0.68) with an overall accuracy of 74%. \n",
    "\n",
    "\n",
    "- Analysing the ROC Curve and AUC scores we can see that the model demonstrates ability in differentiating between the three classes: Short, Medium, and Prolonged Lengths of Stay.All classes have a AUC score above 0.5 which means there is high chance that the Random Forest Classifier model is able to discriminate between True positives and False positives for each class, therefore if it predicts for example Short Length for a patient, there is a high change of being correct and not actually be Medium or Prolonged.\n",
    "\n",
    "\n",
    "- However, model's true effectiveness can only be determined by assessing its performance on real-world unseen patient data. Given that the model was trained on data where synthetic samples were generated for the minority classes (using SMOTE) to address the class imbalance issue, particular attention should be given to its performance on the \"Medium\" and \"Prolonged\" Length of Stay classes.\n",
    "\n"
   ]
  }
 ],
 "metadata": {
  "kernelspec": {
   "display_name": "Python 3 (ipykernel)",
   "language": "python",
   "name": "python3"
  },
  "language_info": {
   "codemirror_mode": {
    "name": "ipython",
    "version": 3
   },
   "file_extension": ".py",
   "mimetype": "text/x-python",
   "name": "python",
   "nbconvert_exporter": "python",
   "pygments_lexer": "ipython3",
   "version": "3.9.13"
  }
 },
 "nbformat": 4,
 "nbformat_minor": 5
}
